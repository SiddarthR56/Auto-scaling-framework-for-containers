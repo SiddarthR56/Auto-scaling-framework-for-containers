{
  "nbformat": 4,
  "nbformat_minor": 0,
  "metadata": {
    "colab": {
      "provenance": []
    },
    "kernelspec": {
      "name": "python3",
      "display_name": "Python 3"
    },
    "language_info": {
      "name": "python"
    }
  },
  "cells": [
    {
      "cell_type": "code",
      "execution_count": null,
      "metadata": {
        "id": "KDFIxx05vryc"
      },
      "outputs": [],
      "source": [
        "import numpy as np\n",
        "import pandas as pd"
      ]
    },
    {
      "cell_type": "code",
      "source": [
        "data = pd.read_csv('./pdata1')"
      ],
      "metadata": {
        "id": "dlHGKcBOvvcG"
      },
      "execution_count": null,
      "outputs": []
    },
    {
      "cell_type": "code",
      "source": [
        "datarps2 = data.drop(['Unnamed: 0'], axis=1)\n",
        "datarps2.plot()"
      ],
      "metadata": {
        "id": "C8Ewi_cJvveY"
      },
      "execution_count": null,
      "outputs": []
    },
    {
      "cell_type": "code",
      "source": [
        "#Conver to Array\n",
        "tdata = []\n",
        "for i in range(datarps2.shape[0]):\n",
        "  tdata.append([float(datarps2.iloc[i]['CPU']), float(datarps2.iloc[i]['RPS']), float(datarps2.iloc[i]['MEM'])])"
      ],
      "metadata": {
        "id": "PaEoXiNpvvgw"
      },
      "execution_count": null,
      "outputs": []
    },
    {
      "cell_type": "code",
      "source": [
        "TX = np.array(tdata)"
      ],
      "metadata": {
        "id": "cglwrYqIvvjF"
      },
      "execution_count": null,
      "outputs": []
    },
    {
      "cell_type": "code",
      "source": [
        "#Create window of last 10 mins\n",
        "def create_windows(data, windsize = 30):\n",
        "  wdata = []\n",
        "  ydata = []\n",
        "  for i in range(windsize, len(data)):\n",
        "    idata = []\n",
        "    for j in range(windsize, 0, -1):\n",
        "      idata.append(data[i - j])\n",
        "    wdata.append(idata)\n",
        "    ydata.append(data[i][0])\n",
        "  return np.array(wdata), np.array(ydata)"
      ],
      "metadata": {
        "id": "5oxdllNHvvnh"
      },
      "execution_count": null,
      "outputs": []
    },
    {
      "cell_type": "code",
      "source": [
        "tx, yx = create_windows(TX)"
      ],
      "metadata": {
        "id": "dQmHMEApvvpk"
      },
      "execution_count": null,
      "outputs": []
    },
    {
      "cell_type": "code",
      "source": [
        "from keras.layers import Bidirectional, BatchNormalization\n",
        "from keras.layers import Dropout, InputLayer, LSTM, CuDNNLSTM\n",
        "from keras.layers import Dense, BatchNormalization\n",
        "from tensorflow.keras.optimizers import SGD, Adam, RMSprop\n",
        "from keras import metrics\n",
        "import tensorflow as tf\n",
        "from keras.layers import LSTM, Dense, Dropout, TimeDistributed, Flatten, BatchNormalization\n",
        "from keras.layers.convolutional import Conv1D, MaxPooling1D\n",
        "from keras.models import Sequential\n"
      ],
      "metadata": {
        "id": "3t-HgpQVvvr6"
      },
      "execution_count": null,
      "outputs": []
    },
    {
      "cell_type": "code",
      "source": [
        "model = Sequential()\n",
        "model.add(TimeDistributed(Conv1D(filters=16, kernel_size=3, activation='elu'), input_shape=(None,10,3)))\n",
        "model.add(TimeDistributed(Dropout(0.3)))\n",
        "model.add(TimeDistributed(MaxPooling1D(pool_size=2)))\n",
        "model.add(TimeDistributed(Flatten()))\n",
        "model.add(Bidirectional(LSTM(32)))\n",
        "model.add(Dropout(0.2))\n",
        "model.add(Dense(16, activation='elu'))\n",
        "model.add(Dense(1, activation='elu'))"
      ],
      "metadata": {
        "id": "182t-B2EvvuS"
      },
      "execution_count": null,
      "outputs": []
    },
    {
      "cell_type": "code",
      "source": [
        "adamOpt = keras.optimizers.Adam(lr=0.001, beta_1=0.9, beta_2=0.999, decay=0.0, amsgrad=False)\n",
        "model.compile(loss='mean_squared_error', optimizer=adamOpt, metrics=['mae'], run_eagerly=True)"
      ],
      "metadata": {
        "id": "9IjYfq_evvwm"
      },
      "execution_count": null,
      "outputs": []
    },
    {
      "cell_type": "code",
      "source": [
        "n_length, n_features = 10, 3\n",
        "trainX = trainX.reshape((trainX.shape[0], n_features, n_length))\n",
        "testX = testX.reshape((testX.shape[0], n_features, n_length))"
      ],
      "metadata": {
        "id": "Y-i451ZRvvyt"
      },
      "execution_count": null,
      "outputs": []
    },
    {
      "cell_type": "code",
      "source": [
        "history = model.fit(trainX, trainY, validation_split=0.2, epochs=20, batch_size=64, verbose=2, shuffle=False)"
      ],
      "metadata": {
        "id": "0beqppptvv1V"
      },
      "execution_count": null,
      "outputs": []
    },
    {
      "cell_type": "code",
      "source": [
        "#Save Model\n",
        "import pickle\n",
        "model.save_weights(\"cnnlstm_model.h5\")"
      ],
      "metadata": {
        "id": "4zj5kV6xws_4"
      },
      "execution_count": null,
      "outputs": []
    },
    {
      "cell_type": "code",
      "source": [
        "testPredict = model.predict(testX)"
      ],
      "metadata": {
        "id": "MFtd1P8sweyh"
      },
      "execution_count": null,
      "outputs": []
    },
    {
      "cell_type": "code",
      "source": [
        "import matplotlib.pyplot as plt\n",
        "import pickle\n",
        "\n",
        "scaler1 = pickle.load(open('./scc.pkl', 'rb'))\n",
        "\n",
        "TestY= pd.DataFrame(testY,columns=['avg_cpu'])\n",
        "PredY=pd.DataFrame(testPredict,columns=['avg_cpu'])\n",
        "testY = scaler1.inverse_transform(TestY)\n",
        "testPredict = scaler1.inverse_transform(PredY)\n",
        "\n",
        "TestY= pd.DataFrame(testY,columns=['avg_cpu'])\n",
        "PredY=pd.DataFrame(testPredict,columns=['avg_cpu'])\n",
        "\n",
        "x = [i for i in range(0,testPredict.shape[0])]\n",
        "\n",
        "fig, axs = plt.subplots(1,figsize=(10,15))\n",
        "\n",
        "axs.plot(x,TestY.avg_cpu,'-.',label='CPU',color='green')\n",
        "axs.plot(x,PredY.avg_cpu,'--',label='Pred CPU',color='black')\n",
        "\n",
        "plt.xlabel('Time in Minutes') \n",
        "plt.ylabel('CPU Usage %') \n",
        "  \n",
        "# displaying the title\n",
        "plt.title(\"CPU prediction\")\n",
        "\n",
        "axs.legend()"
      ],
      "metadata": {
        "id": "CsHT87zUwezM"
      },
      "execution_count": null,
      "outputs": []
    },
    {
      "cell_type": "code",
      "source": [
        "#Metrics\n",
        "y_actual, y_predicted = testY, testPredict\n",
        "\n",
        "from sklearn.metrics import mean_squared_error\n",
        "import math\n",
        " \n",
        "MSE = mean_squared_error(y_actual, y_predicted)\n",
        " \n",
        "RMSE = math.sqrt(MSE)\n",
        "\n",
        "print(\"RMSE: \",RMSE)\n",
        "\n",
        "from sklearn.metrics import mean_absolute_percentage_error\n",
        "\n",
        "print(\"MAPE: \", mean_absolute_percentage_error(y_actual, y_predicted))\n",
        "\n",
        "from sklearn.metrics import mean_absolute_error\n",
        "\n",
        "print(\"MAE: \" mean_absolute_error(y_actual, y_predicted, multioutput='raw_values'))"
      ],
      "metadata": {
        "id": "Vv1MVIcvwxst"
      },
      "execution_count": null,
      "outputs": []
    }
  ]
}