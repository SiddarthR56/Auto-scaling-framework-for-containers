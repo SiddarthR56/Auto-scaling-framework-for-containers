{
  "nbformat": 4,
  "nbformat_minor": 0,
  "metadata": {
    "colab": {
      "provenance": []
    },
    "kernelspec": {
      "name": "python3",
      "display_name": "Python 3"
    },
    "language_info": {
      "name": "python"
    }
  },
  "cells": [
    {
      "cell_type": "code",
      "execution_count": null,
      "metadata": {
        "id": "xyLg3SHDs8A2"
      },
      "outputs": [],
      "source": [
        "import numpy as np\n",
        "import pandas as pd"
      ]
    },
    {
      "cell_type": "code",
      "source": [
        "data = pd.read_csv('./Training data.csv')"
      ],
      "metadata": {
        "id": "TQqg4GvMtA2x"
      },
      "execution_count": null,
      "outputs": []
    },
    {
      "cell_type": "code",
      "source": [
        "data.head()"
      ],
      "metadata": {
        "id": "s6_hnM2YtA5F"
      },
      "execution_count": null,
      "outputs": []
    },
    {
      "cell_type": "code",
      "source": [
        "rmetric = data[['true.2','false.3', 'false.2']]\n",
        "rmetric = rmetric.rename(columns={'true.2': 'metric', 'false.3': 'values', 'false.2': 'time'})"
      ],
      "metadata": {
        "id": "-cBKQYivtA7M"
      },
      "execution_count": null,
      "outputs": []
    },
    {
      "cell_type": "code",
      "source": [
        "datarps = rmetric[rmetric.metric\t == 'RPS']\n",
        "datarps = datarps.reset_index()\n",
        "datamem = rmetric[rmetric.metric\t == 'mem']\n",
        "datamem = datamem.reset_index()\n",
        "datacpu = rmetric[rmetric.metric\t == 'cpu']\n",
        "datacpu = datacpu.reset_index()"
      ],
      "metadata": {
        "id": "sAENrjz8tA9h"
      },
      "execution_count": null,
      "outputs": []
    },
    {
      "cell_type": "code",
      "source": [
        "datarps = datarps.drop(['index', 'metric'], axis = 1)\n",
        "datarps = datarps.rename(columns={'values': 'RPS'})"
      ],
      "metadata": {
        "id": "Wgh3F5NptA_m"
      },
      "execution_count": null,
      "outputs": []
    },
    {
      "cell_type": "code",
      "source": [
        "datarps"
      ],
      "metadata": {
        "id": "uC8HsJaetBCO"
      },
      "execution_count": null,
      "outputs": []
    },
    {
      "cell_type": "code",
      "source": [
        "datarps['CPU'] = datacpu[datacpu['values'].astype(float) >= 0]['values'].astype(float)\n",
        "datarps['CPU'] = datarps[datarps['CPU'].astype(float) <= 100]['CPU'].astype(float)\n",
        "datarps['MEM'] = datamem[datamem['values'].astype(float) >= 0]['values'].astype(float)\n",
        "datarps['MEM'] = datarps[datarps['MEM'].astype(float) <= 100]['MEM'].astype(float)"
      ],
      "metadata": {
        "id": "iowHAB4rtBEC"
      },
      "execution_count": null,
      "outputs": []
    },
    {
      "cell_type": "code",
      "source": [
        "datarps1 = datarps"
      ],
      "metadata": {
        "id": "KgnCiA6ptRLm"
      },
      "execution_count": null,
      "outputs": []
    },
    {
      "cell_type": "code",
      "source": [
        "from sklearn.preprocessing import MinMaxScaler"
      ],
      "metadata": {
        "id": "LnxQGt2AtUDJ"
      },
      "execution_count": null,
      "outputs": []
    },
    {
      "cell_type": "code",
      "source": [
        "datarps1['RPS'] = datarps1['RPS'].astype(float)\n",
        "datarps1['RPS'] = datarps1['RPS']/3\n",
        "scaler = MinMaxScaler(feature_range=(0, 1))\n",
        "datarps1['RPS'] = scaler.fit_transform(datarps1[['RPS']])\n",
        "datarps1.head()\n",
        "scaler1 = MinMaxScaler(feature_range=(0, 1))\n",
        "datarps1['CPU'] = scaler1.fit_transform(datarps1[['CPU']])\n",
        "scaler2 = MinMaxScaler(feature_range=(0, 1))\n",
        "datarps1['MEM'] = scaler2.fit_transform(datarps1[['MEM']])"
      ],
      "metadata": {
        "id": "OXThaPCWtXAw"
      },
      "execution_count": null,
      "outputs": []
    },
    {
      "cell_type": "code",
      "source": [
        "datarps1 = datarps1.dropna()"
      ],
      "metadata": {
        "id": "of0LjeKStZkS"
      },
      "execution_count": null,
      "outputs": []
    },
    {
      "cell_type": "code",
      "source": [
        "datarps2 = datarps1.groupby(np.arange(len(datarps1))//4).mean() #Average data every min, tim"
      ],
      "metadata": {
        "id": "8s7vTMentcAT"
      },
      "execution_count": null,
      "outputs": []
    },
    {
      "cell_type": "code",
      "source": [
        "datarps2.plot()"
      ],
      "metadata": {
        "id": "7R4kwE7HtiNa"
      },
      "execution_count": null,
      "outputs": []
    },
    {
      "cell_type": "code",
      "source": [
        "#Save Normalised Data\n",
        "datarps2.to_csv('pdata.csv')"
      ],
      "metadata": {
        "id": "N2pUJgwTtkIH"
      },
      "execution_count": null,
      "outputs": []
    },
    {
      "cell_type": "code",
      "source": [
        "#Save scalar objects\n",
        "import pickle\n",
        "pickle.dump(scaler, open('scr.pkl', 'wb'))\n",
        "pickle.dump(scaler1, open('scc.pkl', 'wb'))\n",
        "pickle.dump(scaler2, open('scm.pkl', 'wb'))"
      ],
      "metadata": {
        "id": "bgZ6-aVOvNqp"
      },
      "execution_count": null,
      "outputs": []
    }
  ]
}