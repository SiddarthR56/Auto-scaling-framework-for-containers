{
  "nbformat": 4,
  "nbformat_minor": 0,
  "metadata": {
    "colab": {
      "provenance": []
    },
    "kernelspec": {
      "name": "python3",
      "display_name": "Python 3"
    },
    "language_info": {
      "name": "python"
    }
  },
  "cells": [
    {
      "cell_type": "code",
      "execution_count": null,
      "metadata": {
        "id": "lOHR7mQZt9uj"
      },
      "outputs": [],
      "source": [
        "import numpy as np\n",
        "import pandas as pd"
      ]
    },
    {
      "cell_type": "code",
      "source": [
        "data = pd.read_csv('./pdata')"
      ],
      "metadata": {
        "id": "bh0jWWiot__c"
      },
      "execution_count": null,
      "outputs": []
    },
    {
      "cell_type": "code",
      "source": [
        "datarps2 = data.drop(['Unnamed: 0'], axis=1)\n",
        "datarps2.plot()"
      ],
      "metadata": {
        "id": "aK6DGkV4uABu"
      },
      "execution_count": null,
      "outputs": []
    },
    {
      "cell_type": "code",
      "source": [
        "#Conver to Array\n",
        "tdata = []\n",
        "for i in range(datarps2.shape[0]):\n",
        "  tdata.append([float(datarps2.iloc[i]['CPU']), float(datarps2.iloc[i]['RPS']), float(datarps2.iloc[i]['MEM'])])"
      ],
      "metadata": {
        "id": "1TKqBbWDuAD0"
      },
      "execution_count": null,
      "outputs": []
    },
    {
      "cell_type": "code",
      "source": [
        "TX = np.array(tdata)"
      ],
      "metadata": {
        "id": "ru0R7zY-uAGJ"
      },
      "execution_count": null,
      "outputs": []
    },
    {
      "cell_type": "code",
      "source": [
        "#Create window of last 5 mins\n",
        "def create_windows(data, windsize = 5):\n",
        "  wdata = []\n",
        "  ydata = []\n",
        "  for i in range(windsize, len(data)):\n",
        "    idata = []\n",
        "    for j in range(windsize, 0, -1):\n",
        "      idata.append(data[i - j])\n",
        "    wdata.append(idata)\n",
        "    ydata.append(data[i][0])\n",
        "  return np.array(wdata), np.array(ydata)"
      ],
      "metadata": {
        "id": "QWSqrXz0uAIh"
      },
      "execution_count": null,
      "outputs": []
    },
    {
      "cell_type": "code",
      "source": [
        "tx, yx = create_windows(TX)"
      ],
      "metadata": {
        "id": "J_rd2O5auAK0"
      },
      "execution_count": null,
      "outputs": []
    },
    {
      "cell_type": "code",
      "source": [
        "from keras.layers import Bidirectional, Dense, Dropout\n",
        "import keras\n",
        "from tensorflow.keras.models import Sequential\n",
        "from tensorflow.keras.layers import Bidirectional, LSTM, Dense, Dropout,BatchNormalization"
      ],
      "metadata": {
        "id": "F_xmVDkyuoqy"
      },
      "execution_count": null,
      "outputs": []
    },
    {
      "cell_type": "code",
      "source": [
        "model = Sequential()\n",
        "model.add(Bidirectional(LSTM(units=5, return_sequences=True, activation=\"elu\"), input_shape=( 5, 3)))\n",
        "model.add(Bidirectional(LSTM(units=3, activation=\"elu\")))\n",
        "model.add(Dense(units=1, activation=\"elu\"))\n",
        "model.build(input_shape=(None,  5, 3))"
      ],
      "metadata": {
        "id": "fYOeB_S8uANL"
      },
      "execution_count": null,
      "outputs": []
    },
    {
      "cell_type": "code",
      "source": [
        "adamOpt = keras.optimizers.Adam(lr=0.001, beta_1=0.9, beta_2=0.999, decay=0.0, amsgrad=False)\n",
        "model.compile(loss='mean_squared_error', optimizer=adamOpt, metrics=['mae'], run_eagerly=True)"
      ],
      "metadata": {
        "id": "sBikguIyudWV"
      },
      "execution_count": null,
      "outputs": []
    },
    {
      "cell_type": "code",
      "source": [
        "history = model.fit(trainX, trainY, validation_split=0.2, epochs=40, batch_size=64, verbose=2, shuffle=False)"
      ],
      "metadata": {
        "id": "T3Qqc_tZudYp"
      },
      "execution_count": null,
      "outputs": []
    },
    {
      "cell_type": "code",
      "source": [
        "#Save Model\n",
        "import pickle\n",
        "model.save_weights(\"bilstm_model.h5\")"
      ],
      "metadata": {
        "id": "-EUI5w3Tuda-"
      },
      "execution_count": null,
      "outputs": []
    },
    {
      "cell_type": "code",
      "source": [
        "testPredict = model.predict(testX)"
      ],
      "metadata": {
        "id": "UOma5o2Zu8Qo"
      },
      "execution_count": null,
      "outputs": []
    },
    {
      "cell_type": "code",
      "source": [
        "import matplotlib.pyplot as plt\n",
        "import pickle\n",
        "\n",
        "scaler1 = pickle.load(open('./scc.pkl', 'rb'))\n",
        "\n",
        "TestY= pd.DataFrame(testY,columns=['avg_cpu'])\n",
        "PredY=pd.DataFrame(testPredict,columns=['avg_cpu'])\n",
        "testY = scaler1.inverse_transform(TestY)\n",
        "testPredict = scaler1.inverse_transform(PredY)\n",
        "\n",
        "TestY= pd.DataFrame(testY,columns=['avg_cpu'])\n",
        "PredY=pd.DataFrame(testPredict,columns=['avg_cpu'])\n",
        "\n",
        "x = [i for i in range(0,testPredict.shape[0])]\n",
        "\n",
        "fig, axs = plt.subplots(1,figsize=(10,15))\n",
        "\n",
        "axs.plot(x,TestY.avg_cpu,'-.',label='CPU',color='green')\n",
        "axs.plot(x,PredY.avg_cpu,'--',label='Pred CPU',color='black')\n",
        "\n",
        "plt.xlabel('Time in Minutes') \n",
        "plt.ylabel('CPU Usage %') \n",
        "  \n",
        "# displaying the title\n",
        "plt.title(\"CPU prediction\")\n",
        "\n",
        "axs.legend()"
      ],
      "metadata": {
        "id": "k3a0R1GKu8Y7"
      },
      "execution_count": null,
      "outputs": []
    },
    {
      "cell_type": "code",
      "source": [
        "#Metrics\n",
        "y_actual, y_predicted = testY, testPredict\n",
        "\n",
        "from sklearn.metrics import mean_squared_error\n",
        "import math\n",
        " \n",
        "MSE = mean_squared_error(y_actual, y_predicted)\n",
        " \n",
        "RMSE = math.sqrt(MSE)\n",
        "\n",
        "print(\"RMSE: \",RMSE)\n",
        "\n",
        "from sklearn.metrics import mean_absolute_percentage_error\n",
        "\n",
        "print(\"MAPE: \", mean_absolute_percentage_error(y_actual, y_predicted))\n",
        "\n",
        "from sklearn.metrics import mean_absolute_error\n",
        "\n",
        "print(\"MAE: \" mean_absolute_error(y_actual, y_predicted, multioutput='raw_values'))"
      ],
      "metadata": {
        "id": "vuRTfr8Eu8bh"
      },
      "execution_count": null,
      "outputs": []
    },
    {
      "cell_type": "code",
      "source": [],
      "metadata": {
        "id": "AwOQZwIFuddU"
      },
      "execution_count": null,
      "outputs": []
    },
    {
      "cell_type": "code",
      "source": [],
      "metadata": {
        "id": "CwgwjTkaudfq"
      },
      "execution_count": null,
      "outputs": []
    },
    {
      "cell_type": "code",
      "source": [],
      "metadata": {
        "id": "KQuTwzTMuAPh"
      },
      "execution_count": null,
      "outputs": []
    },
    {
      "cell_type": "code",
      "source": [],
      "metadata": {
        "id": "bsnNN_msuARo"
      },
      "execution_count": null,
      "outputs": []
    }
  ]
}